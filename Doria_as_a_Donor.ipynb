{
 "cells": [
  {
   "cell_type": "markdown",
   "metadata": {
    "collapsed": true
   },
   "source": [
    "# Campaigns that the candidate Doria was a donor\n",
    "\n",
    "By [Reinaldo Chaves](https://www.reinaldochaves.com/)"
   ]
  },
  {
   "cell_type": "markdown",
   "metadata": {},
   "source": [
    "Consult the [page](http://divulgacandcontas.tse.jus.br/divulga/#/candidato/2016/2/71072/250000004975) of accountability of the candidate in the Superior Electoral Court.\n",
    "\n",
    "\n",
    "Click on certificates (Certidões). Some of them include the CPF number (Individual Persons Registry - identification document in Brazil).\n",
    "\n",
    "\n",
    "Back to [main website](http://divulgacandcontas.tse.jus.br/divulga/#/).\n",
    "\n",
    "\n",
    "Click on donors and suppliers (Doadores e Fornecedores).\n",
    "\n",
    "\n",
    "Enter the candidate's CPF and click Search. Will appear the donations that Doria did, click on some (it has different names because the record was made wrong, but the values in the three are the same).\n",
    "\n",
    "\n",
    "You can ask for details. There are going to be the guys that Doria gave as a person. Many were elected as councilmen in the city of São Paulo. \n",
    "\n",
    "\n",
    "But this query is not the perfect, does not show all beneficiaries. It is best to consult with the CNPJ (National Register of Legal Entities) of the Doria campaign, that is, for whom his campaign gave money, and not just the Doria. \n",
    "\n",
    "\n",
    "The CNPJ is on [Doria's website](http://divulgacandcontas.tse.jus.br/divulga/#/candidato/2016/2/71072/250000004975) in the DivulgaCandContas. \n",
    "\n",
    "\n",
    "CNPJ - 25.324.482/0001-66\n",
    "\n",
    "\n",
    "Back to [main website](http://divulgacandcontas.tse.jus.br/divulga/#/).\n",
    "\n",
    "\n",
    "Consult the same field of donors (Doadores e Fornecedores), now with the CNPJ. Select some field with the name of Doria. Click on detail (Detalhar).\n",
    "\n",
    "\n",
    "You can see that his campaign has given more money to individual politicians than he does as an individual.\n",
    "\n",
    "\n",
    "Click export to download the CSV file to begin the analyzes (Exportar). I downloaded it to my computer (Receitas.csv). I also edited the column names in the CSV, removing the blanks between the words and Portuguese accentuation."
   ]
  },
  {
   "cell_type": "code",
   "execution_count": 1,
   "metadata": {
    "collapsed": true
   },
   "outputs": [],
   "source": [
    "import pandas as pd"
   ]
  },
  {
   "cell_type": "markdown",
   "metadata": {},
   "source": [
    "After, the database was read and placed in benefited."
   ]
  },
  {
   "cell_type": "code",
   "execution_count": 2,
   "metadata": {
    "collapsed": true
   },
   "outputs": [],
   "source": [
    "benefited = pd.read_csv(\"C:\\Users\\Reinaldo\\Downloads\\Receitas.csv\",sep=';')"
   ]
  },
  {
   "cell_type": "code",
   "execution_count": 3,
   "metadata": {},
   "outputs": [
    {
     "data": {
      "text/html": [
       "<div>\n",
       "<style>\n",
       "    .dataframe thead tr:only-child th {\n",
       "        text-align: right;\n",
       "    }\n",
       "\n",
       "    .dataframe thead th {\n",
       "        text-align: left;\n",
       "    }\n",
       "\n",
       "    .dataframe tbody tr th {\n",
       "        vertical-align: top;\n",
       "    }\n",
       "</style>\n",
       "<table border=\"1\" class=\"dataframe\">\n",
       "  <thead>\n",
       "    <tr style=\"text-align: right;\">\n",
       "      <th></th>\n",
       "      <th>Doador</th>\n",
       "      <th>CPF/CNPJ</th>\n",
       "      <th>Doador_Originario</th>\n",
       "      <th>CPF_CNPJ_Originario</th>\n",
       "      <th>Data</th>\n",
       "      <th>N_Recibo_Eleitoral</th>\n",
       "      <th>Valor_R$</th>\n",
       "      <th>Especie_do_Recurso</th>\n",
       "      <th>N_Documento</th>\n",
       "      <th>Nome_do_Candidato</th>\n",
       "      <th>CNPJ_do_Candidato</th>\n",
       "      <th>Numero</th>\n",
       "      <th>Partido</th>\n",
       "      <th>Candidatura</th>\n",
       "      <th>Unidade_Eleitoral</th>\n",
       "      <th>Fonte_do_Recurso</th>\n",
       "    </tr>\n",
       "  </thead>\n",
       "  <tbody>\n",
       "    <tr>\n",
       "      <th>0</th>\n",
       "      <td>Direção Municipal/Comissão Provisória</td>\n",
       "      <td>2,53E+13</td>\n",
       "      <td>NaN</td>\n",
       "      <td>NaN</td>\n",
       "      <td>06/09/2016</td>\n",
       "      <td>191491371072SP000021E</td>\n",
       "      <td>1</td>\n",
       "      <td>Estimado</td>\n",
       "      <td>NaN</td>\n",
       "      <td>MARIO COGUE FILHO</td>\n",
       "      <td>2,57E+13</td>\n",
       "      <td>19149</td>\n",
       "      <td>NaN</td>\n",
       "      <td>Vereador</td>\n",
       "      <td>SÃO PAULO</td>\n",
       "      <td>Fundo Partidário</td>\n",
       "    </tr>\n",
       "    <tr>\n",
       "      <th>1</th>\n",
       "      <td>Direção Municipal/Comissão Provisória</td>\n",
       "      <td>2,53E+13</td>\n",
       "      <td>NaN</td>\n",
       "      <td>NaN</td>\n",
       "      <td>06/09/2016</td>\n",
       "      <td>407071371072SP007302E</td>\n",
       "      <td>2844</td>\n",
       "      <td>Estimado</td>\n",
       "      <td>NaN</td>\n",
       "      <td>PATRICIA ELISUA DE OLIVEIRA FERREIRA FERNANDES</td>\n",
       "      <td>2,54E+13</td>\n",
       "      <td>40707</td>\n",
       "      <td>NaN</td>\n",
       "      <td>Vereador</td>\n",
       "      <td>SÃO PAULO</td>\n",
       "      <td>Fundo Partidário</td>\n",
       "    </tr>\n",
       "    <tr>\n",
       "      <th>2</th>\n",
       "      <td>Direção Municipal/Comissão Provisória</td>\n",
       "      <td>2,53E+13</td>\n",
       "      <td>NaN</td>\n",
       "      <td>NaN</td>\n",
       "      <td>06/09/2016</td>\n",
       "      <td>194441371072SP000001E</td>\n",
       "      <td>1422</td>\n",
       "      <td>Estimado</td>\n",
       "      <td>NaN</td>\n",
       "      <td>NIVALDO SOARES DA SILVA FILHO</td>\n",
       "      <td>2,57E+13</td>\n",
       "      <td>19444</td>\n",
       "      <td>NaN</td>\n",
       "      <td>Vereador</td>\n",
       "      <td>SÃO PAULO</td>\n",
       "      <td>Fundo Partidário</td>\n",
       "    </tr>\n",
       "    <tr>\n",
       "      <th>3</th>\n",
       "      <td>Direção Municipal/Comissão Provisória</td>\n",
       "      <td>2,53E+13</td>\n",
       "      <td>NaN</td>\n",
       "      <td>NaN</td>\n",
       "      <td>14/09/2016</td>\n",
       "      <td>194441371072SP000002E</td>\n",
       "      <td>711</td>\n",
       "      <td>Estimado</td>\n",
       "      <td>NaN</td>\n",
       "      <td>NIVALDO SOARES DA SILVA FILHO</td>\n",
       "      <td>2,57E+13</td>\n",
       "      <td>19444</td>\n",
       "      <td>NaN</td>\n",
       "      <td>Vereador</td>\n",
       "      <td>SÃO PAULO</td>\n",
       "      <td>Fundo Partidário</td>\n",
       "    </tr>\n",
       "    <tr>\n",
       "      <th>4</th>\n",
       "      <td>Direção Municipal/Comissão Provisória</td>\n",
       "      <td>2,53E+13</td>\n",
       "      <td>NaN</td>\n",
       "      <td>NaN</td>\n",
       "      <td>06/09/2016</td>\n",
       "      <td>191671371072SP000004E</td>\n",
       "      <td>1422</td>\n",
       "      <td>Estimado</td>\n",
       "      <td>NaN</td>\n",
       "      <td>RICARDO MARTINS PEREIRA</td>\n",
       "      <td>2,58E+13</td>\n",
       "      <td>19167</td>\n",
       "      <td>NaN</td>\n",
       "      <td>Vereador</td>\n",
       "      <td>SÃO PAULO</td>\n",
       "      <td>Outros Recursos</td>\n",
       "    </tr>\n",
       "  </tbody>\n",
       "</table>\n",
       "</div>"
      ],
      "text/plain": [
       "                                  Doador  CPF/CNPJ Doador_Originario  \\\n",
       "0  Direção Municipal/Comissão Provisória  2,53E+13               NaN   \n",
       "1  Direção Municipal/Comissão Provisória  2,53E+13               NaN   \n",
       "2  Direção Municipal/Comissão Provisória  2,53E+13               NaN   \n",
       "3  Direção Municipal/Comissão Provisória  2,53E+13               NaN   \n",
       "4  Direção Municipal/Comissão Provisória  2,53E+13               NaN   \n",
       "\n",
       "   CPF_CNPJ_Originario        Data     N_Recibo_Eleitoral  Valor_R$  \\\n",
       "0                  NaN  06/09/2016  191491371072SP000021E         1   \n",
       "1                  NaN  06/09/2016  407071371072SP007302E      2844   \n",
       "2                  NaN  06/09/2016  194441371072SP000001E      1422   \n",
       "3                  NaN  14/09/2016  194441371072SP000002E       711   \n",
       "4                  NaN  06/09/2016  191671371072SP000004E      1422   \n",
       "\n",
       "  Especie_do_Recurso N_Documento  \\\n",
       "0           Estimado         NaN   \n",
       "1           Estimado         NaN   \n",
       "2           Estimado         NaN   \n",
       "3           Estimado         NaN   \n",
       "4           Estimado         NaN   \n",
       "\n",
       "                                Nome_do_Candidato CNPJ_do_Candidato  Numero  \\\n",
       "0                               MARIO COGUE FILHO          2,57E+13   19149   \n",
       "1  PATRICIA ELISUA DE OLIVEIRA FERREIRA FERNANDES          2,54E+13   40707   \n",
       "2                   NIVALDO SOARES DA SILVA FILHO          2,57E+13   19444   \n",
       "3                   NIVALDO SOARES DA SILVA FILHO          2,57E+13   19444   \n",
       "4                         RICARDO MARTINS PEREIRA          2,58E+13   19167   \n",
       "\n",
       "   Partido Candidatura Unidade_Eleitoral  Fonte_do_Recurso  \n",
       "0      NaN    Vereador         SÃO PAULO  Fundo Partidário  \n",
       "1      NaN    Vereador         SÃO PAULO  Fundo Partidário  \n",
       "2      NaN    Vereador         SÃO PAULO  Fundo Partidário  \n",
       "3      NaN    Vereador         SÃO PAULO  Fundo Partidário  \n",
       "4      NaN    Vereador         SÃO PAULO   Outros Recursos  "
      ]
     },
     "execution_count": 3,
     "metadata": {},
     "output_type": "execute_result"
    }
   ],
   "source": [
    "benefited.head()"
   ]
  },
  {
   "cell_type": "code",
   "execution_count": 4,
   "metadata": {},
   "outputs": [
    {
     "name": "stdout",
     "output_type": "stream",
     "text": [
      "<class 'pandas.core.frame.DataFrame'>\n",
      "RangeIndex: 1122 entries, 0 to 1121\n",
      "Data columns (total 16 columns):\n",
      "Doador                 1122 non-null object\n",
      "CPF/CNPJ               1122 non-null object\n",
      "Doador_Originario      653 non-null object\n",
      "CPF_CNPJ_Originario    653 non-null float64\n",
      "Data                   1122 non-null object\n",
      "N_Recibo_Eleitoral     943 non-null object\n",
      "Valor_R$               1122 non-null int64\n",
      "Especie_do_Recurso     1122 non-null object\n",
      "N_Documento            61 non-null object\n",
      "Nome_do_Candidato      1122 non-null object\n",
      "CNPJ_do_Candidato      1122 non-null object\n",
      "Numero                 1122 non-null int64\n",
      "Partido                0 non-null float64\n",
      "Candidatura            1115 non-null object\n",
      "Unidade_Eleitoral      1122 non-null object\n",
      "Fonte_do_Recurso       1122 non-null object\n",
      "dtypes: float64(2), int64(2), object(12)\n",
      "memory usage: 87.7+ KB\n"
     ]
    }
   ],
   "source": [
    "benefited.info()"
   ]
  },
  {
   "cell_type": "markdown",
   "metadata": {},
   "source": [
    "### Filter by CPF number"
   ]
  },
  {
   "cell_type": "markdown",
   "metadata": {},
   "source": [
    "Filter by João Doria's CPF in column CPF_CNPJ_Originario. It is a collection of donations that Doria's campaign has made to other candidates"
   ]
  },
  {
   "cell_type": "code",
   "execution_count": 6,
   "metadata": {},
   "outputs": [
    {
     "ename": "NameError",
     "evalue": "name 'CPF_CNPJ_Originario' is not defined",
     "output_type": "error",
     "traceback": [
      "\u001b[1;31m\u001b[0m",
      "\u001b[1;31mNameError\u001b[0mTraceback (most recent call last)",
      "\u001b[1;32m<ipython-input-6-e4ab43976760>\u001b[0m in \u001b[0;36m<module>\u001b[1;34m()\u001b[0m\n\u001b[1;32m----> 1\u001b[1;33m \u001b[0mfinal_beneficiaries\u001b[0m \u001b[1;33m=\u001b[0m \u001b[0mbenefited\u001b[0m\u001b[1;33m[\u001b[0m\u001b[0mCPF_CNPJ_Originario\u001b[0m \u001b[1;33m==\u001b[0m \u001b[1;36m94062897849\u001b[0m\u001b[1;33m]\u001b[0m\u001b[1;33m\u001b[0m\u001b[0m\n\u001b[0m",
      "\u001b[1;31mNameError\u001b[0m: name 'CPF_CNPJ_Originario' is not defined"
     ]
    }
   ],
   "source": [
    "final_beneficiaries = benefited[CPF_CNPJ_Originario == 94062897849]"
   ]
  },
  {
   "cell_type": "code",
   "execution_count": null,
   "metadata": {
    "collapsed": true
   },
   "outputs": [],
   "source": []
  }
 ],
 "metadata": {
  "kernelspec": {
   "display_name": "Python 2",
   "language": "python",
   "name": "python2"
  },
  "language_info": {
   "codemirror_mode": {
    "name": "ipython",
    "version": 2
   },
   "file_extension": ".py",
   "mimetype": "text/x-python",
   "name": "python",
   "nbconvert_exporter": "python",
   "pygments_lexer": "ipython2",
   "version": "2.7.13"
  }
 },
 "nbformat": 4,
 "nbformat_minor": 2
}
